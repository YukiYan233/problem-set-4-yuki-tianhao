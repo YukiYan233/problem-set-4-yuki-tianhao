{
 "cells": [
  {
   "cell_type": "code",
   "execution_count": 2,
   "metadata": {},
   "outputs": [
    {
     "name": "stdout",
     "output_type": "stream",
     "text": [
      "Index(['PRVDR_CTGRY_SBTYP_CD', 'PRVDR_CTGRY_CD', 'CHOW_CNT', 'CHOW_DT',\n",
      "       'CITY_NAME', 'ACPTBL_POC_SW', 'CMPLNC_STUS_CD', 'SSA_CNTY_CD',\n",
      "       'CROSS_REF_PROVIDER_NUMBER', 'CRTFCTN_DT',\n",
      "       ...\n",
      "       'OTHR_SRGRY_SW', 'PAIN_SRGRY_SW', 'PLSTC_SRGRY_SW', 'FT_SRGRY_SW',\n",
      "       'SB_SW', 'SB_SIZE_CD', 'TCHNLGST_2_YR_RDLGC_CNT',\n",
      "       'TCHNLGST_ASCT_DGR_CNT', 'TCHNLGST_BS_BA_DGR_CNT', 'DLYS_STN_CNT'],\n",
      "      dtype='object', length=470)\n"
     ]
    }
   ],
   "source": [
    "import pandas as pd\n",
    "\n",
    "# Load the dataset\n",
    "pos2016 = pd.read_csv('pos2016.csv', low_memory=False)\n",
    "\n",
    "# Print the column names to see what variables were pulled\n",
    "print(pos2016.columns)\n"
   ]
  },
  {
   "cell_type": "code",
   "execution_count": 6,
   "metadata": {},
   "outputs": [
    {
     "name": "stdout",
     "output_type": "stream",
     "text": [
      "Unique values in PRVDR_CTGRY_CD: [ 1 21 19 16  9 12 14  3  2  4  8  5 10 15 11  6 17  7]\n",
      "Unique values in PRVDR_CTGRY_SBTYP_CD: [ 1. nan 11.  2.  5.  6.  4.  3. 20. 24.]\n",
      "Number of short-term hospitals: 7245\n"
     ]
    }
   ],
   "source": [
    "import pandas as pd\n",
    "\n",
    "pos2016 = pd.read_csv('pos2016.csv', low_memory=False)\n",
    "\n",
    "print(\"Unique values in PRVDR_CTGRY_CD:\", pos2016['PRVDR_CTGRY_CD'].unique())\n",
    "print(\"Unique values in PRVDR_CTGRY_SBTYP_CD:\", pos2016['PRVDR_CTGRY_SBTYP_CD'].unique())\n",
    "\n",
    "try:\n",
    "    short_term_hospitals = pos2016[(pos2016['PRVDR_CTGRY_CD'] == 1) & \n",
    "                                   (pos2016['PRVDR_CTGRY_SBTYP_CD'] == 1)]\n",
    "\n",
    "    num_hospitals = len(short_term_hospitals)\n",
    "    print(f\"Number of short-term hospitals: {num_hospitals}\")\n",
    "    \n",
    "except KeyError:\n",
    "    print(\"Error: Ensure that column names are correctly specified.\")\n"
   ]
  },
  {
   "cell_type": "code",
   "execution_count": null,
   "metadata": {},
   "outputs": [],
   "source": []
  }
 ],
 "metadata": {
  "kernelspec": {
   "display_name": "base",
   "language": "python",
   "name": "python3"
  },
  "language_info": {
   "codemirror_mode": {
    "name": "ipython",
    "version": 3
   },
   "file_extension": ".py",
   "mimetype": "text/x-python",
   "name": "python",
   "nbconvert_exporter": "python",
   "pygments_lexer": "ipython3",
   "version": "3.11.7"
  }
 },
 "nbformat": 4,
 "nbformat_minor": 2
}
